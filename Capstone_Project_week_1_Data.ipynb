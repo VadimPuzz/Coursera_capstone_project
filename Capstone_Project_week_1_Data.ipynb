{
    "cells": [
        {
            "metadata": {
                "collapsed": true
            },
            "cell_type": "markdown",
            "source": "# Capstone Project - The Battle of Neighborhoods (Week 1)"
        },
        {
            "metadata": {},
            "cell_type": "markdown",
            "source": "## Data"
        },
        {
            "metadata": {},
            "cell_type": "markdown",
            "source": "The data on the country houses in the Moscow region and addresses was collected by scrapping one of the most popular local websites Yandex. \nUsing Yandex API, the coordinates for each flat were found (as the addresses on the local apartments website are in Russian, \nYandex gave more accurate results than geopy). \nThen, the data on the country houses in the Moscow region for each district was collected using the Foursquare API."
        }
    ],
    "metadata": {
        "kernelspec": {
            "name": "python3",
            "display_name": "Python 3.7",
            "language": "python"
        },
        "language_info": {
            "name": "python",
            "version": "3.7.9",
            "mimetype": "text/x-python",
            "codemirror_mode": {
                "name": "ipython",
                "version": 3
            },
            "pygments_lexer": "ipython3",
            "nbconvert_exporter": "python",
            "file_extension": ".py"
        }
    },
    "nbformat": 4,
    "nbformat_minor": 1
}