{
    "cells": [
        {
            "metadata": {
                "collapsed": true
            },
            "cell_type": "markdown",
            "source": "# Capstone Project - The Battle of Neighborhoods"
        },
        {
            "metadata": {},
            "cell_type": "markdown",
            "source": "## Week 1"
        },
        {
            "metadata": {},
            "cell_type": "markdown",
            "source": "### Introduction"
        },
        {
            "metadata": {},
            "cell_type": "markdown",
            "source": "This project will help the company optimize the costs of an advertising campaign, \nincrease conversion and increase the return on investment in advertising.\nFrom this research, you can see:\nin which regions of the Moscow region are country houses grouped\nwhere is the best place to advertise services for owners of country houses.\n"
        },
        {
            "metadata": {},
            "cell_type": "markdown",
            "source": "### Business Problem"
        },
        {
            "metadata": {},
            "cell_type": "markdown",
            "source": "SSG is engaged in the repair and installation of boiler and gas equipment in country houses in the Moscow region. \nThe company ran an Internet advertising campaign. \nThe goal of the advertising campaign was to attract customers to a landing page that was specially created for this. \nThe advertising campaign had a budget of $ 300,000. \n\nAs a result, SSG received orders for less than $ 300,000. Thus, the advertising campaign failed.\n\nA business analyst was brought in to explain the reasons for this result. \n\nHe put forward the following hypothesis:\n\n\u2022 A large region with uniform coverage was selected as a target.\n\n\u2022 At the same time, in this region, country houses are not evenly distributed and part of the advertising has gone to empty.\n\nThe owner of the company made the decision to bring in a data scientist to cluster in the region and identify advertising targets to decrease coverage and increase the intensity and duration of ads and increase conversions.\n"
        },
        {
            "metadata": {},
            "cell_type": "code",
            "source": "",
            "execution_count": null,
            "outputs": []
        }
    ],
    "metadata": {
        "kernelspec": {
            "name": "python3",
            "display_name": "Python 3.7",
            "language": "python"
        },
        "language_info": {
            "name": "python",
            "version": "3.7.9",
            "mimetype": "text/x-python",
            "codemirror_mode": {
                "name": "ipython",
                "version": 3
            },
            "pygments_lexer": "ipython3",
            "nbconvert_exporter": "python",
            "file_extension": ".py"
        }
    },
    "nbformat": 4,
    "nbformat_minor": 1
}